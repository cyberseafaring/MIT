{
 "cells": [
  {
   "cell_type": "markdown",
   "id": "c16a0578",
   "metadata": {},
   "source": []
  },
  {
   "cell_type": "markdown",
   "id": "de059da6",
   "metadata": {},
   "source": []
  },
  {
   "cell_type": "markdown",
   "id": "a4e4dbae",
   "metadata": {},
   "source": []
  },
  {
   "cell_type": "markdown",
   "id": "868e5aff",
   "metadata": {},
   "source": []
  },
  {
   "cell_type": "markdown",
   "id": "2cb8fbf5",
   "metadata": {},
   "source": []
  }
 ],
 "metadata": {
  "kernelspec": {
   "display_name": "Python 3 (ipykernel)",
   "language": "python",
   "name": "python3"
  },
  "language_info": {
   "codemirror_mode": {
    "name": "ipython",
    "version": 3
   },
   "file_extension": ".py",
   "mimetype": "text/x-python",
   "name": "python",
   "nbconvert_exporter": "python",
   "pygments_lexer": "ipython3",
   "version": "3.10.0"
  }
 },
 "nbformat": 4,
 "nbformat_minor": 5
}
