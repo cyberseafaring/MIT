{
 "cells": [
  {
   "cell_type": "markdown",
   "id": "e592415c",
   "metadata": {},
   "source": [
    "## 1.1 关于本书"
   ]
  },
  {
   "cell_type": "markdown",
   "id": "32f2e304",
   "metadata": {},
   "source": [
    "这本书主要讲述了使用Python进行数据操作、处理、清理和分析的基础知识和技巧。作者的目标是向读者介绍Python编程语言及其数据导向的库生态系统和工具的那些部分，这些知识和工具将使你成为一名有效的数据分析师。尽管书名中有“数据分析”这个词，但焦点特别放在了Python编程、库和工具上，而不是数据分析方法论。这本书介绍的是你在数据分析中需要的Python编程知识。\n",
    "\n",
    "自该书2012年首次出版之后，人们开始将“数据科学”这个术语作为一个总称，涵盖了从简单的描述性统计到更高级的统计分析和机器学习等一切内容。自那以后，用于进行数据分析（或数据科学）的Python开源生态系统也显著扩展了。现在有许多其他书籍专门关注这些更高级的方法论。作者希望这本书能作为一个充分的准备，使你能够转向更具领域特定性的资源。\n",
    "\n",
    "需要注意的是，书中很多内容可能被描述为“数据操作”而不是“数据分析”。我们也使用“数据整理”或“数据清洗”这样的术语来指代数据操作。\n",
    "\n",
    "当谈到“数据”时，具体指的是什么呢？这本书主要关注的是结构化数据，这是一个刻意模糊的术语，它包含了许多不同常见形式的数据，例如：\n",
    "\n",
    "- 表格或类似电子表格的数据，其中每列可能是不同类型的（字符串、数值、日期或其他）。这包括大多数通常存储在关系数据库或制表符或逗号分隔的文本文件中的数据。\n",
    "- 多维数组（矩阵）。\n",
    "- 通过关键列相互关联的多个数据表（对于SQL用户来说，这将是主键或外键）。\n",
    "- 均匀或不均匀间隔的时间序列。\n",
    "\n",
    "这绝不是一个完整的列表。虽然这可能并不总是显而易见的，但大量的数据集可以被转换成更适合分析和建模的结构化形式。如果不行，可能可以从数据集中提取特征到一个结构化的形式。例如，可以将一系列新闻文章处理成词频表，然后用于进行情感分析。\n",
    "\n",
    "大多数使用像Microsoft Excel这样的电子表格程序的用户（可能是世界上最广泛使用的数据分析工具），对这些类型的数据并不陌生。"
   ]
  },
  {
   "cell_type": "markdown",
   "id": "fcd6a6b4",
   "metadata": {},
   "source": [
    "## 1.2 为什么使用Python进行数据分析"
   ]
  },
  {
   "cell_type": "markdown",
   "id": "6676dd73",
   "metadata": {},
   "source": [
    "Python对于许多人来说具有很强的吸引力，自1991年首次亮相以来，Python已经成为最受欢迎的解释型编程语言之一，与Perl、Ruby等并肩。特别是自2005年左右，Python和Ruby因其众多的Web框架（如Ruby的Rails和Python的Django）而在构建网站方面变得尤为流行。这些语言经常被称为脚本语言，因为它们可以用来快速编写小程序或脚本来自动化其他任务。不过，“脚本语言”这一术语并不受作者喜欢，因为它带有不能用于构建严肃软件的含义。在解释型语言中，由于各种历史和文化原因，Python在科学计算和数据分析社区发展了一个庞大而活跃的社群。在过去20年中，Python已从一个前沿或“自担风险”的科学计算语言，发展成为学术界和工业界数据科学、机器学习和一般软件开发最重要的语言之一。\n",
    "\n",
    "对于数据分析、交互式计算和数据可视化，Python不可避免地会与其他广泛使用的开源和商业编程语言及工具（如R、MATLAB、SAS、Stata等）相比较。近年来，Python改进的开源库（如pandas和scikit-learn）使其成为数据分析任务的热门选择。结合Python在通用软件工程方面的整体优势，它是构建数据应用的优秀选项。\n",
    "\n",
    "**Python作为胶水**\n",
    "\n",
    "Python在科学计算中的成功部分归因于其易于集成C、C++和FORTRAN代码的能力。大多数现代计算环境共享一套类似的遗留FORTRAN和C库，用于线性代数、优化、积分、快速傅里叶变换等算法。对于许多公司和国家实验室来说，使用Python将数十年的遗留软件粘合在一起的情况也是如此。\n",
    "\n",
    "**解决“两种语言”问题**\n",
    "\n",
    "在许多组织中，使用更专业的计算语言（如SAS或R）研究、原型设计和测试新想法，然后将这些想法移植到用Java、C#或C++编写的更大的生产系统中是常见的。人们越来越发现，Python不仅适合进行研究和原型设计，也适合构建生产系统。当一种语言就足够时，为什么还要维护两个开发环境呢？我相信越来越多的公司将走上这条道路，因为研究人员和软件工程师使用相同的编程工具通常对组织有显著的好处。\n",
    "\n",
    "在过去的十年中，出现了一些新的方法来解决“两种语言”问题，例如Julia编程语言。在许多情况下，充分利用Python将需要用C或C++等低级语言编程，并创建到该代码的Python绑定。不过，由Numba等库提供的“即时”（JIT）编译器技术已经提供了一种在许多计算算法中实现出色性能的方法，而无需离开Python编程环境。\n",
    "\n",
    "**为什么不是Python？**\n",
    "\n",
    "虽然Python是构建许多种类分析应用和通用系统的优秀环境，但对于某些用途，Python可能不太适合。\n",
    "\n",
    "由于Python\n",
    "\n",
    "是一种解释型编程语言，一般来说，大多数Python代码的运行速度会比用编译型语言（如Java或C++）编写的代码慢得多。由于程序员时间通常比CPU时间更有价值，许多人乐意做出这种权衡。然而，在具有非常低延迟或要求高资源利用率的应用中（例如，高频交易系统），在低级（但也低生产力）语言如C++中编程以实现最大可能的性能可能是值得的。\n",
    "\n",
    "Python对于构建高度并发的、多线程的应用来说可能是一种挑战性的语言，特别是对于许多CPU绑定线程的应用。原因是它拥有所谓的全局解释器锁（GIL），这是一种机制，阻止解释器同时执行多于一个Python指令。GIL存在的技术原因超出了本书的范围。虽然在许多大数据处理应用中，可能需要一群计算机来在合理的时间内处理数据集，但仍然存在单进程、多线程系统是可取的情况。\n",
    "\n",
    "这并不是说Python不能执行真正的多线程、并行代码。使用本地多线程（在C或C++中）的Python C扩展可以在不受GIL影响的情况下并行运行代码，只要它们不需要经常与Python对象交互。"
   ]
  },
  {
   "cell_type": "markdown",
   "id": "dda93bb6",
   "metadata": {},
   "source": [
    "## 1.3 基本的 Python 库"
   ]
  },
  {
   "cell_type": "markdown",
   "id": "82a143b4",
   "metadata": {},
   "source": [
    "\n",
    "\n",
    "### NumPy\n",
    "- **NumPy**（Numerical Python的缩写）长期以来一直是Python数值计算的基石。它提供了大多数涉及Python中数值数据的科学应用所需的数据结构、算法和库粘合层。\n",
    "- NumPy中包括了快速高效的多维数组对象`ndarray`，用于数组的元素级计算或数组间的数学操作的函数，以及读写基于数组的数据集到磁盘的工具。\n",
    "- NumPy还提供线性代数运算、傅里叶变换和随机数生成等功能。\n",
    "\n",
    "### pandas\n",
    "- **pandas**提供了高级数据结构和函数，旨在使处理结构化或表格数据变得直观和灵活。自2010年出现以来，它帮助Python成为了一个强大且高效的数据分析环境。\n",
    "- pandas在数据分析中的主要使用对象是`DataFrame`（一个表格型、列方向的数据结构，具有行和列标签）和`Series`（一个一维标签数组对象）。\n",
    "- pandas将NumPy的数组计算思想与电子表格和关系数据库中发现的数据操作能力融合在一起，提供了便捷的索引功能，使得数据重塑、切片、聚合和选择数据子集变得容易。\n",
    "\n",
    "### matplotlib\n",
    "- **matplotlib**是用于生成图表和其他二维数据可视化的最受欢迎的Python库。它最初由John D. Hunter创建，现在由一个庞大的开发团队维护，设计用于创建适合出版的图表。\n",
    "\n",
    "### IPython 和 Jupyter\n",
    "- **IPython**项目始于2001年，旨在制作一个更好的交互式Python解释器。IPython鼓励执行-探索工作流，而不是许多其他编程语言的编辑-编译-运行工作流。\n",
    "- **Jupyter**项目是IPython团队在2014年宣布的一个更广泛的倡议，旨在设计语言无关的交互式计算工具。Jupyter notebook支持超过40种编程语言，IPython系统现在可以作为使用Python的Jupyter的内核。\n",
    "\n",
    "### SciPy\n",
    "- **SciPy**是一组用于解决科学计算中的基础问题的包。它包含了多个模块，提供了数值积分、线性代数、优化、信号处理和稀疏矩阵等工具。\n",
    "\n",
    "### scikit-learn\n",
    "- 自2007年项目启动以来，**scikit-learn**已成为Python程序员的首选通用机器学习工具包。它包括用于分类、回归、聚类、降维、模型选择和预处理的子模块。\n",
    "\n",
    "### statsmodels\n",
    "- **statsmodels**是一个统计分析包，提供了回归模型、方差分析、时间序列分析等。与scikit-learn相比，statsmodels更注重经典（主要是频率主义）统计学和计量经济学的算法。\n",
    "\n",
    "### 其他包\n",
    "- 至2022年，Python数据科学领域还有许多其他值得讨论的库，如**TensorFlow**和**PyTorch**，它们在机器学习或人工智能工作中变得流行。这本书旨在建立通用Python数据处理的基础，之后可以转向更专门的资源进行深入学习。"
   ]
  },
  {
   "cell_type": "markdown",
   "id": "0d2842a3",
   "metadata": {},
   "source": [
    "## 1.4 安装和设置"
   ]
  },
  {
   "cell_type": "markdown",
   "id": "18b87bc3",
   "metadata": {},
   "source": [
    "根据你的操作系统，这里提供了设置Python开发环境和获取必要附加包的详细指南。使用的是Miniconda和conda-forge，这是一个基于conda的社区维护的软件分发。全书使用Python 3.10，但如果你在未来阅读本书，欢迎安装更新版本的Python。详细的安装流程请自行在网上查找，遇到错误也可以在网上很容易找到答案。\n",
    "\n",
    "### Miniconda安装\n",
    "\n",
    "#### Windows\n",
    "- 从[官网](https://conda.io)下载Miniconda安装程序（目前为Python 3.12）。中国用户可以使用清华源下载，速度超快。\n",
    "- 安装时选择为个人安装还是所有用户安装，并决定是否将Miniconda添加到系统PATH环境变量。\n",
    "\n",
    "#### GNU/Linux\n",
    "- 下载默认的64位安装程序文件，执行shell脚本进行安装：`$ bash Miniconda3-latest-Linux-x86_64.sh`。\n",
    "- 推荐将Miniconda文件安装在默认位置，例如`/home/$USER/miniconda`。\n",
    "- 安装程序将询问是否希望自动激活Miniconda，建议选择\"是\"。\n",
    "\n",
    "#### macOS\n",
    "- 下载macOS Miniconda安装程序，执行安装：`$ bash $HOME/Downloads/Miniconda3-latest-MacOSX-arm64.sh`。\n",
    "- 安装程序默认会在默认的shell环境配置Miniconda。\n",
    "\n",
    "### 安装必要的包\n",
    "设置Miniconda后，使用以下命令配置conda-forge作为默认包频道，并创建一个新的conda环境：\n",
    "\n",
    "```bash\n",
    "(base) $ conda config --add channels conda-forge\n",
    "(base) $ conda config --set channel_priority strict\n",
    "(base) $ conda create -y -n pydata-book python=3.10\n",
    "(base) $ conda activate pydata-book\n",
    "(pydata-book) $ conda install -y pandas jupyter matplotlib\n",
    "```\n",
    "\n",
    "如果有一些包在conda中不可用，可以尝试使用pip安装：\n",
    "\n",
    "```bash\n",
    "(pydata-book) $ pip install package_name\n",
    "```\n",
    "\n",
    "### 集成开发环境和文本编辑器\n",
    "虽然一些用户可能偏好使用更丰富的集成开发环境（IDE），但我通常推荐“IPython加上文本编辑器”的组合。当构建软件时，你可以探索以下IDE：\n",
    "\n",
    "- PyDev（免费），基于Eclipse平台的IDE。\n",
    "- PyCharm（对商业用户是订阅制，对开源开发者免费）。\n",
    "- Python Tools for Visual Studio（Windows用户）。\n",
    "- Spyder（免费），目前与Anaconda一同提供。\n",
    "- Komodo IDE（商业版）。\n",
    "\n",
    "由于Python的流行，大多数文本编辑器，如VS Code和Sublime Text 2，都提供了出色的Python支持。\n",
    "\n",
    "请注意，安装过程中的具体步骤可能会随着时间而变化，因此如果遇到问题，请参考相关工具的官方文档或寻求社区支持。"
   ]
  },
  {
   "cell_type": "markdown",
   "id": "83f74b20",
   "metadata": {},
   "source": [
    "## 1.5 社区和会议"
   ]
  },
  {
   "cell_type": "markdown",
   "id": "7742511e",
   "metadata": {},
   "source": [
    "Python社区活跃且支持广泛，是学习和解决问题的宝贵资源。除了通过互联网搜索外，各种科学和数据相关的Python邮件列表通常对问题非常有帮助和响应迅速。值得关注的一些邮件列表包括：\n",
    "\n",
    "- **pydata**: 专注于Python数据分析和pandas的Google Group邮件列表。\n",
    "- **pystatsmodels**: 用于statsmodels或pandas相关问题的讨论。\n",
    "- **scikit-learn**: 面向scikit-learn和Python机器学习的邮件列表（scikit-learn@python.org）。\n",
    "- **numpy-discussion**: 针对NumPy相关问题的讨论。\n",
    "- **scipy-user**: 用于一般的SciPy或科学计算Python问题的讨论。\n",
    "\n",
    "邮件列表的确切URL可能会变化，因此如果需要，可以通过互联网搜索轻松找到它们。\n",
    "\n",
    "每年，世界各地都会举办许多Python程序员的会议。如果你希望与有共同兴趣的其他Python程序员建立联系，我鼓励你探索参加这些会议（如果可能的话）。许多会议为那些无法负担入场费或旅行费用的人提供经济支持。以下是一些值得考虑的会议：\n",
    "\n",
    "- **PyCon和EuroPython**: 分别是北美和欧洲的两大主要通用Python会议。\n",
    "- **SciPy和EuroSciPy**: 分别是北美和欧洲面向科学计算的会议。\n",
    "- **PyData**: 一个针对数据科学和数据分析用例的全球系列区域性会议。\n",
    "- **国际和地区PyCon会议**: 可以在[官网](https://pycon.org)查看完整列表。\n",
    "\n",
    "参加这些会议是扩展知识、学习新技术、了解行业最佳实践和结识同行的好机会。"
   ]
  },
  {
   "cell_type": "markdown",
   "id": "9f597f60",
   "metadata": {},
   "source": [
    "## 1.6 如何浏览本书"
   ]
  },
  {
   "cell_type": "markdown",
   "id": "6fc9c213",
   "metadata": {},
   "source": [
    "本书旨在为那些希望使用Python进行数据分析的读者提供一个全面的指南。如果你之前从未使用过Python，建议先花时间学习第2章《Python语言基础、IPython和Jupyter笔记本》和第3章《内置数据结构、函数和文件》，这两章提供了对Python语言特性、IPython shell和Jupyter笔记本的简要教程。这些知识是理解本书其余部分的先决条件。如果你已经有Python经验，你可以选择快速浏览或跳过这些章节。\n",
    "\n",
    "接下来，我将简要介绍NumPy的关键特性，并将更高级的NumPy用法留到附录A《高级NumPy》中。然后，我将引入pandas，并将本书的剩余部分致力于应用pandas、NumPy和matplotlib（用于可视化）的数据分析主题。我按照递增的方式组织了材料，尽管偶尔会有一些章节之间的小交叉，有些概念可能会在尚未介绍之前就被使用。\n",
    "\n",
    "尽管读者可能有许多不同的工作目标，但所需的任务通常可以分为几个不同的广泛类别：\n",
    "\n",
    "- **与外部世界互动**：读写各种文件格式和数据存储。\n",
    "- **准备**：清理、整理、合并、规范化、重塑、切片和切块以及转换数据以供分析。\n",
    "- **转换**：对数据集群应用数学和统计操作以派生新的数据集（例如，按组变量聚合大表）。\n",
    "- **建模和计算**：将数据与统计模型、机器学习算法或其他计算工具连接。\n",
    "- **呈现**：创建交互式或静态的图形可视化或文字摘要。\n",
    "\n",
    "### 代码示例\n",
    "书中的大多数代码示例都以IPython shell或Jupyter笔记本中执行的输入和输出的形式展示：\n",
    "\n",
    "```python\n",
    "In [5]: # CODE EXAMPLE\n",
    "Out[5]: # OUTPUT\n",
    "```\n",
    "\n",
    "当你看到这样的代码示例时，意图是让你在编码环境的In块中键入示例代码并通过按Enter键（或在Jupyter中按Shift-Enter）执行它。你应该看到与Out块中显示的类似的输出。\n",
    "\n",
    "### 示例数据\n",
    "每章的示例数据集托管在GitHub仓库（或Gitee镜像）中。你可以通过使用命令行上的Git版本控制系统或从网站下载仓库的zip文件来下载这些数据。如果遇到问题，请访问本书的网站，获取获取书籍材料的最新指南。\n",
    "\n",
    "### 导入约定\n",
    "Python社区为常用模块采纳了一些命名约定：\n",
    "\n",
    "```python\n",
    "import numpy as np\n",
    "import matplotlib.pyplot as plt\n",
    "import pandas as pd\n",
    "import seaborn as sns\n",
    "import statsmodels as sm\n",
    "```\n",
    "\n",
    "这意味着当你看到`np.arange`时，这是对NumPy中`arange`函数的引用。之所以这样做，是因为在Python软件开发中，从像NumPy这样的大型包中导入所有内容（`from numpy import *`）被认为是一种不好的实践。"
   ]
  }
 ],
 "metadata": {
  "kernelspec": {
   "display_name": "Python 3 (ipykernel)",
   "language": "python",
   "name": "python3"
  },
  "language_info": {
   "codemirror_mode": {
    "name": "ipython",
    "version": 3
   },
   "file_extension": ".py",
   "mimetype": "text/x-python",
   "name": "python",
   "nbconvert_exporter": "python",
   "pygments_lexer": "ipython3",
   "version": "3.10.0"
  }
 },
 "nbformat": 4,
 "nbformat_minor": 5
}
