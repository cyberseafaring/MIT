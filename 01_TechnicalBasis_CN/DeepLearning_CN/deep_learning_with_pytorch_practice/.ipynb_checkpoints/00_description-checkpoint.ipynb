{
 "cells": [
  {
   "cell_type": "markdown",
   "id": "b2ae425a",
   "metadata": {},
   "source": [
    "# 系统性的深度学习Pytorch实践课程"
   ]
  },
  {
   "cell_type": "markdown",
   "id": "a6a1b6a2",
   "metadata": {},
   "source": [
    "本课程为系统性的深度学习Pytorch实践课程。\n",
    "\n",
    "特点：\n",
    "\n",
    "- 非计算机专业友好型\n",
    "\n",
    "- 尽可能少的数学公式描述\n",
    "\n",
    "- 以Python和Pytorch代码实践说明为主\n",
    "\n"
   ]
  },
  {
   "cell_type": "markdown",
   "id": "45344709",
   "metadata": {},
   "source": [
    "对理论学习有需求的同学可以关注李沐大神的[《动手学深度学习》](https://zh.d2l.ai/index.html)Pytorch版本课程的学习。"
   ]
  },
  {
   "cell_type": "code",
   "execution_count": null,
   "id": "e8c19e48",
   "metadata": {},
   "outputs": [],
   "source": []
  }
 ],
 "metadata": {
  "kernelspec": {
   "display_name": "Python 3 (ipykernel)",
   "language": "python",
   "name": "python3"
  },
  "language_info": {
   "codemirror_mode": {
    "name": "ipython",
    "version": 3
   },
   "file_extension": ".py",
   "mimetype": "text/x-python",
   "name": "python",
   "nbconvert_exporter": "python",
   "pygments_lexer": "ipython3",
   "version": "3.10.0"
  }
 },
 "nbformat": 4,
 "nbformat_minor": 5
}
