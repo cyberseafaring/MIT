{
 "cells": [
  {
   "cell_type": "markdown",
   "id": "b41fee47",
   "metadata": {},
   "source": [
    "### 复习\n",
    "\n",
    "向量和矩阵：向量运算，矩阵运算，向量和矩阵的应用。\n",
    "\n",
    "特征值和特征向量：特征值分解，奇异值分解（SVD）。\n",
    "\n",
    "线性变换：基础的线性变换概念，变换矩阵。\n",
    "\n",
    "内积空间：点积，范数，正交性。"
   ]
  },
  {
   "cell_type": "markdown",
   "id": "329f7fbe",
   "metadata": {},
   "source": []
  },
  {
   "cell_type": "markdown",
   "id": "771cddde",
   "metadata": {},
   "source": []
  }
 ],
 "metadata": {
  "kernelspec": {
   "display_name": "Python 3 (ipykernel)",
   "language": "python",
   "name": "python3"
  },
  "language_info": {
   "codemirror_mode": {
    "name": "ipython",
    "version": 3
   },
   "file_extension": ".py",
   "mimetype": "text/x-python",
   "name": "python",
   "nbconvert_exporter": "python",
   "pygments_lexer": "ipython3",
   "version": "3.10.0"
  }
 },
 "nbformat": 4,
 "nbformat_minor": 5
}
