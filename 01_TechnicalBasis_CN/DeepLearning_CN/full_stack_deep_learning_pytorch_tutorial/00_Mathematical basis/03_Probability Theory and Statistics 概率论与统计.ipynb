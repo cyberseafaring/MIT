{
 "cells": [
  {
   "cell_type": "markdown",
   "id": "c79af3a5",
   "metadata": {},
   "source": [
    "概率基础：事件，独立性，条件概率，贝叶斯定理。\n",
    "\n",
    "随机变量：离散和连续随机变量，期望值，方差。\n",
    "\n",
    "常见分布：二项分布，正态分布，泊松分布。\n",
    "\n",
    "统计推断：参数估计，假设检验，置信区间。"
   ]
  },
  {
   "cell_type": "code",
   "execution_count": null,
   "id": "5d5c5d14",
   "metadata": {},
   "outputs": [],
   "source": []
  }
 ],
 "metadata": {
  "kernelspec": {
   "display_name": "Python 3 (ipykernel)",
   "language": "python",
   "name": "python3"
  },
  "language_info": {
   "codemirror_mode": {
    "name": "ipython",
    "version": 3
   },
   "file_extension": ".py",
   "mimetype": "text/x-python",
   "name": "python",
   "nbconvert_exporter": "python",
   "pygments_lexer": "ipython3",
   "version": "3.10.0"
  }
 },
 "nbformat": 4,
 "nbformat_minor": 5
}
