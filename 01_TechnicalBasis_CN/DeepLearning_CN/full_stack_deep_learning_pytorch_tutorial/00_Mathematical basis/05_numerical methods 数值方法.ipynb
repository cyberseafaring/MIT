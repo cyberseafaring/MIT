{
 "cells": [
  {
   "cell_type": "markdown",
   "id": "c9f4effb",
   "metadata": {},
   "source": [
    "数值线性代数：线性方程组的数值解法，特征值问题。\n",
    "\n",
    "数值优化：数值求解优化问题的方法，如牛顿法和拟牛顿法等。"
   ]
  },
  {
   "cell_type": "code",
   "execution_count": null,
   "id": "eea4e552",
   "metadata": {},
   "outputs": [],
   "source": []
  }
 ],
 "metadata": {
  "kernelspec": {
   "display_name": "Python 3 (ipykernel)",
   "language": "python",
   "name": "python3"
  },
  "language_info": {
   "codemirror_mode": {
    "name": "ipython",
    "version": 3
   },
   "file_extension": ".py",
   "mimetype": "text/x-python",
   "name": "python",
   "nbconvert_exporter": "python",
   "pygments_lexer": "ipython3",
   "version": "3.10.0"
  }
 },
 "nbformat": 4,
 "nbformat_minor": 5
}
