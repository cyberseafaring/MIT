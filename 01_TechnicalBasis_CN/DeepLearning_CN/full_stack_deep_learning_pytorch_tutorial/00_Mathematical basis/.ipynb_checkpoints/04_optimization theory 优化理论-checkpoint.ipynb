{
 "cells": [
  {
   "cell_type": "markdown",
   "id": "f86d29e4",
   "metadata": {},
   "source": [
    "梯度下降：梯度下降法，随机梯度下降（SGD），批量梯度下降。\n",
    "\n",
    "约束优化：拉格朗日乘数法，KKT条件。\n",
    "\n",
    "凸优化：凸集，凸函数，凸优化问题的特点和求解方法。"
   ]
  },
  {
   "cell_type": "code",
   "execution_count": null,
   "id": "6262d324",
   "metadata": {},
   "outputs": [],
   "source": []
  }
 ],
 "metadata": {
  "kernelspec": {
   "display_name": "Python 3 (ipykernel)",
   "language": "python",
   "name": "python3"
  },
  "language_info": {
   "codemirror_mode": {
    "name": "ipython",
    "version": 3
   },
   "file_extension": ".py",
   "mimetype": "text/x-python",
   "name": "python",
   "nbconvert_exporter": "python",
   "pygments_lexer": "ipython3",
   "version": "3.10.0"
  }
 },
 "nbformat": 4,
 "nbformat_minor": 5
}
