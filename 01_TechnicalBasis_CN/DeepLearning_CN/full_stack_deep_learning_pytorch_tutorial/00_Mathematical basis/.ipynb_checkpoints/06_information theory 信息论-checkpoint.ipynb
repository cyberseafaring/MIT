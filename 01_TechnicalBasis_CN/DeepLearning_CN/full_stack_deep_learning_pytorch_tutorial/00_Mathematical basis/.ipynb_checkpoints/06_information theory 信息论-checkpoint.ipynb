{
 "cells": [
  {
   "cell_type": "markdown",
   "id": "93bc978f",
   "metadata": {},
   "source": [
    "熵：信息量的度量，熵的概念及其在数据压缩和通信中的应用。\n",
    "\n",
    "互信息和相对熵：度量两个随机变量之间的信息共享。"
   ]
  },
  {
   "cell_type": "code",
   "execution_count": null,
   "id": "e5286391",
   "metadata": {},
   "outputs": [],
   "source": []
  }
 ],
 "metadata": {
  "kernelspec": {
   "display_name": "Python 3 (ipykernel)",
   "language": "python",
   "name": "python3"
  },
  "language_info": {
   "codemirror_mode": {
    "name": "ipython",
    "version": 3
   },
   "file_extension": ".py",
   "mimetype": "text/x-python",
   "name": "python",
   "nbconvert_exporter": "python",
   "pygments_lexer": "ipython3",
   "version": "3.10.0"
  }
 },
 "nbformat": 4,
 "nbformat_minor": 5
}
