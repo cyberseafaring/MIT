{
 "cells": [
  {
   "cell_type": "markdown",
   "id": "3294e400",
   "metadata": {},
   "source": [
    "函数的极限和连续性：理解极限和连续性的基本概念。\n",
    "\n",
    "导数和偏导数：单变量和多变量函数的导数，链式法则。\n",
    "\n",
    "积分：定积分和不定积分的基础知识。\n",
    "\n",
    "多变量微积分：梯度，方向导数，泰勒展开。"
   ]
  },
  {
   "cell_type": "code",
   "execution_count": null,
   "id": "24e61962",
   "metadata": {},
   "outputs": [],
   "source": []
  }
 ],
 "metadata": {
  "kernelspec": {
   "display_name": "Python 3 (ipykernel)",
   "language": "python",
   "name": "python3"
  },
  "language_info": {
   "codemirror_mode": {
    "name": "ipython",
    "version": 3
   },
   "file_extension": ".py",
   "mimetype": "text/x-python",
   "name": "python",
   "nbconvert_exporter": "python",
   "pygments_lexer": "ipython3",
   "version": "3.10.0"
  }
 },
 "nbformat": 4,
 "nbformat_minor": 5
}
