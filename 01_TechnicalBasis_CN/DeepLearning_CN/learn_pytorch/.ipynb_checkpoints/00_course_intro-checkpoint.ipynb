{
 "cells": [
  {
   "cell_type": "markdown",
   "id": "ef6ea900",
   "metadata": {},
   "source": [
    "# 课程简介\n",
    "\n",
    "请参考[在线教材](https://www.learnpytorch.io/)。本note为该课程的中文重制版，内容有变化，整体框架不变。"
   ]
  },
  {
   "cell_type": "markdown",
   "id": "7e3bd227",
   "metadata": {},
   "source": [
    "### Zero to Mastery Learn PyTorch for Deep Learning\n",
    "\n",
    "这个在线教材旨在通过实践教学方法，从基础到高级，全面地介绍PyTorch框架及其在深度学习中的应用。课程结构精心设计，适合不同层次的学习者，无论你是刚接触深度学习的新手还是希望提升现有技能的开发者，都能在这个课程中找到有价值的内容。下面是对课程目录的详细介绍：\n",
    "\n",
    "#### 首页\n",
    "课程的起点，介绍课程目标、学习路径和如何最大化课程效益。\n",
    "\n",
    "#### 00. PyTorch Fundamentals\n",
    "从最基础的概念开始，介绍PyTorch的基本组成，包括张量操作、自动梯度计算等核心功能，为后续深入学习打下坚实基础。\n",
    "\n",
    "#### 01. PyTorch Workflow Fundamentals\n",
    "详细讲解PyTorch的工作流程，包括数据处理、模型构建、训练、评估和模型优化等关键步骤，通过实践让学习者掌握PyTorch项目的完整开发周期。\n",
    "\n",
    "#### 02. PyTorch Neural Network Classification\n",
    "深入神经网络的构建和训练过程，专注于分类问题。学习如何使用PyTorch构建、训练和评估分类模型，以及如何处理多类别数据。\n",
    "\n",
    "#### 03. PyTorch Computer Vision\n",
    "探索使用PyTorch在计算机视觉领域的应用，包括图像处理、模型构建和训练技巧。通过实际案例学习如何处理图像数据并应用卷积神经网络。\n",
    "\n",
    "#### 04. PyTorch Custom Datasets\n",
    "介绍如何创建和使用自定义数据集。涵盖从数据准备、加载到预处理的完整流程，强调在不同场景下处理数据的灵活性和重要性。\n",
    "\n",
    "#### 05. PyTorch Going Modular\n",
    "讲解如何将PyTorch代码模块化，以提高项目的可维护性和可重用性。包括如何组织代码、定义模块和利用PyTorch的高级功能。\n",
    "\n",
    "#### 06. PyTorch Transfer Learning\n",
    "深入迁移学习的概念和实践，教授如何利用预训练模型加速开发过程，并在新的数据集上实现高效的学习。\n",
    "\n",
    "#### 07. PyTorch Experiment Tracking\n",
    "介绍如何跟踪和记录实验结果，包括使用各种工具和库来管理实验过程，以便于分析和比较不同模型的性能。\n",
    "\n",
    "#### 08. PyTorch Paper Replicating\n",
    "指导如何阅读、理解和复现深度学习论文中的模型，强调理论知识与实践技能的结合，促进学习者深入研究最新的深度学习技术。\n",
    "\n",
    "#### 09. PyTorch Model Deployment\n",
    "讲解如何将训练好的PyTorch模型部署到不同的平台和应用中，包括Web服务、移动设备等，以及相关的优化策略。\n",
    "\n",
    "#### A Quick PyTorch 2.0 Tutorial\n",
    "快速入门PyTorch 2.0的新特性和改进，为有经验的开发者提供快速更新知识的途径。\n",
    "\n",
    "#### PyTorch Extra Resources\n",
    "提供额外的学习资源，包括官方文档、社区论坛和进阶教程，帮助学习者拓展知识面和解决特定问题。\n",
    "\n",
    "#### PyTorch Cheatsheet\n",
    "提供快速参考的PyTorch作弊表，涵盖常用的函数和技巧，方便学习者在开发过程中快速查找信息。\n",
    "\n",
    "#### The Three Most Common Errors in PyTorch\n",
    "总结在使用PyTorch过程中最常见的错误和解决方案，帮助学习者避免这些常犯的错误，提高开发效率。\n",
    "\n",
    "这个在线教材不仅涵盖理论知识，更注重实践操作，通过大量的代码示例和项目案例，帮助学习者深入理解PyTorch及其在深度学习中的应用，是一门全面、实用的PyTorch学习课程。"
   ]
  },
  {
   "cell_type": "code",
   "execution_count": null,
   "id": "a33422b6",
   "metadata": {},
   "outputs": [],
   "source": []
  }
 ],
 "metadata": {
  "kernelspec": {
   "display_name": "Python 3 (ipykernel)",
   "language": "python",
   "name": "python3"
  },
  "language_info": {
   "codemirror_mode": {
    "name": "ipython",
    "version": 3
   },
   "file_extension": ".py",
   "mimetype": "text/x-python",
   "name": "python",
   "nbconvert_exporter": "python",
   "pygments_lexer": "ipython3",
   "version": "3.10.0"
  }
 },
 "nbformat": 4,
 "nbformat_minor": 5
}
