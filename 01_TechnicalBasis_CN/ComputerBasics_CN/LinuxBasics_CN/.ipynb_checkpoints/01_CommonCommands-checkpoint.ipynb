{
 "cells": [
  {
   "cell_type": "markdown",
   "id": "cab6e2fc-cf82-440c-97a7-2a50f90e4cf8",
   "metadata": {},
   "source": [
    "## 1. Linux 常用命令"
   ]
  },
  {
   "cell_type": "markdown",
   "id": "cae52335-765d-4ad4-b1ae-aaabdc44ea2e",
   "metadata": {},
   "source": [
    "```bash\n",
    "ls - 列出目录内容。例如，ls -l 会以列表形式显示详细信息。\n",
    "\n",
    "cd - 更改当前目录。例如，cd /home 会切换到 /home 目录。\n",
    "\n",
    "pwd - 显示当前工作目录的完整路径。\n",
    "\n",
    "mkdir - 创建一个新目录。例如，mkdir new_folder 会创建一个名为 new_folder 的目录。\n",
    "\n",
    "rmdir - 删除空目录。\n",
    "\n",
    "rm - 删除文件或目录。rm -r 可用于递归删除目录及其内容。\n",
    "\n",
    "cp - 复制文件或目录。例如，cp file1 file2 会将 file1 复制到 file2。\n",
    "\n",
    "mv - 移动或重命名文件或目录。例如，mv file1 new_dir/ 会将 file1 移动到 new_dir 目录。\n",
    "\n",
    "touch - 创建一个空文件或更新现有文件的时间戳。\n",
    "\n",
    "cat - 查看文件内容、创建文件、文件合并等。例如，cat file.txt 会显示 file.txt 的内容。\n",
    "\n",
    "chmod - 更改文件或目录的权限。例如，chmod 755 file.txt 会设置 file.txt 的权限为755。\n",
    "\n",
    "chown - 更改文件或目录的所有者和/或组。\n",
    "\n",
    "find - 在目录树中搜索文件和目录。例如，find /home -name \"file.txt\" 会在 /home 目录及其子目录中搜索名为 file.txt 的文件。\n",
    "\n",
    "grep - 在文件中搜索指定的字符串。例如，grep \"text\" file.txt 会在 file.txt 中搜索字符串 \"text\"。\n",
    "\n",
    "sudo - 以超级用户（或指定用户）身份执行命令。例如，sudo apt update 会以超级用户身份执行 apt update 命令。\n",
    "\n",
    "apt-get (在基于 Debian 的系统中) 或 yum (在基于 RedHat 的系统中) - 用于安装、更新、卸载和管理软件包。\n",
    "\n",
    "wget - 从网络上下载文件。\n",
    "\n",
    "curl - 传输数据的工具，支持多种协议。\n",
    "\n",
    "ssh - 安全地远程登录到另一台计算机。\n",
    "\n",
    "tar - 文件打包工具，常用于创建和提取 .tar.gz 或 .tar.bz2 文件。\n",
    "\n"
   ]
  },
  {
   "cell_type": "markdown",
   "id": "c93c5d0f-2aeb-465b-a0f0-c802d4a13aa0",
   "metadata": {},
   "source": []
  },
  {
   "cell_type": "markdown",
   "id": "8b8f005d-10e2-46bc-83be-f9e57172e3bf",
   "metadata": {},
   "source": []
  },
  {
   "cell_type": "markdown",
   "id": "e5391956-d7be-4f43-8e78-d253a9796a19",
   "metadata": {},
   "source": []
  },
  {
   "cell_type": "markdown",
   "id": "d160be71-20f1-44c0-b785-aef232722f29",
   "metadata": {},
   "source": []
  },
  {
   "cell_type": "markdown",
   "id": "f13253ef-a317-4e6e-9928-c95a6d55df72",
   "metadata": {},
   "source": []
  },
  {
   "cell_type": "markdown",
   "id": "55a14376-e1e9-421a-9624-6744916cb676",
   "metadata": {},
   "source": []
  },
  {
   "cell_type": "markdown",
   "id": "24df5f42-207f-44e4-8d91-2c8946c3d299",
   "metadata": {},
   "source": []
  },
  {
   "cell_type": "markdown",
   "id": "add990a5-bfd5-40d5-8709-abd14a17a601",
   "metadata": {},
   "source": []
  },
  {
   "cell_type": "markdown",
   "id": "d4d285c2-03dc-4098-93d7-b0db776cd69f",
   "metadata": {},
   "source": []
  },
  {
   "cell_type": "markdown",
   "id": "695f11af-57a3-4e40-8c75-bafe00e3752a",
   "metadata": {},
   "source": []
  },
  {
   "cell_type": "markdown",
   "id": "6db82e26-b663-41f4-bf23-63f1ca4ee086",
   "metadata": {},
   "source": []
  },
  {
   "cell_type": "markdown",
   "id": "280fd725-2c93-496f-bf5e-81bf76676b60",
   "metadata": {},
   "source": [
    "### 2. SHH"
   ]
  },
  {
   "cell_type": "markdown",
   "id": "edaea8f8-3976-437b-9ae2-2287f71e075b",
   "metadata": {},
   "source": []
  },
  {
   "cell_type": "markdown",
   "id": "0aa58271-4069-4ed6-bd84-4e52b68d70cd",
   "metadata": {},
   "source": []
  },
  {
   "cell_type": "markdown",
   "id": "62c6dd81-9f4b-4d29-a15d-a59898355ed4",
   "metadata": {},
   "source": []
  },
  {
   "cell_type": "markdown",
   "id": "34c560b4-a14f-497c-aba2-11e5beac5f63",
   "metadata": {},
   "source": []
  },
  {
   "cell_type": "markdown",
   "id": "7d4dbc87-c6ee-49ec-bf7d-2407b2bcb9c9",
   "metadata": {},
   "source": []
  },
  {
   "cell_type": "markdown",
   "id": "d03f35f1-3a3f-4988-8e68-d4626e0fd71d",
   "metadata": {},
   "source": []
  },
  {
   "cell_type": "markdown",
   "id": "4011bdec-ec78-4d41-8441-66e097d8b9f6",
   "metadata": {},
   "source": []
  }
 ],
 "metadata": {
  "kernelspec": {
   "display_name": "Python 3 (ipykernel)",
   "language": "python",
   "name": "python3"
  },
  "language_info": {
   "codemirror_mode": {
    "name": "ipython",
    "version": 3
   },
   "file_extension": ".py",
   "mimetype": "text/x-python",
   "name": "python",
   "nbconvert_exporter": "python",
   "pygments_lexer": "ipython3",
   "version": "3.11.6"
  }
 },
 "nbformat": 4,
 "nbformat_minor": 5
}
