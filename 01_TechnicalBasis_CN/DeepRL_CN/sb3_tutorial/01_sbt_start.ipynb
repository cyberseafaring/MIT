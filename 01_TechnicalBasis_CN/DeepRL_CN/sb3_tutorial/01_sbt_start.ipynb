{
 "cells": [
  {
   "cell_type": "markdown",
   "id": "6198d58d",
   "metadata": {},
   "source": [
    "## Stable Baselines3 Tutorial"
   ]
  },
  {
   "cell_type": "markdown",
   "id": "8c2e343e",
   "metadata": {},
   "source": [
    "在本笔记本中，我们将学习使用稳定基线库的基础知识：如何创建 RL 模型、训练和评估它。由于所有算法共享相同的接口，因此我们将看到从一种算法切换到另一种算法是多么简单。"
   ]
  },
  {
   "cell_type": "markdown",
   "id": "5e13d2b0",
   "metadata": {},
   "source": [
    "使用 Pip 安装依赖项和稳定基线3\n",
    "\n",
    "pip install 'stable-baselines3[extra]'"
   ]
  },
  {
   "cell_type": "markdown",
   "id": "2966b9d3",
   "metadata": {},
   "source": [
    "### 导入模块"
   ]
  },
  {
   "cell_type": "code",
   "execution_count": 1,
   "id": "eba9044a",
   "metadata": {},
   "outputs": [],
   "source": [
    "import gymnasium as gym\n",
    "import numpy as np\n",
    "\n",
    "# 注意：并非所有sb3算法都适用于所有动作空间。\n",
    "# 在这个链接检查：https://stable-baselines3.readthedocs.io/en/master/guide/algos.html"
   ]
  },
  {
   "cell_type": "code",
   "execution_count": 2,
   "id": "ffea9158",
   "metadata": {},
   "outputs": [],
   "source": [
    "from stable_baselines3 import PPO"
   ]
  },
  {
   "cell_type": "code",
   "execution_count": 3,
   "id": "455d0353",
   "metadata": {},
   "outputs": [],
   "source": [
    "from stable_baselines3.ppo.policies import MlpPolicy"
   ]
  },
  {
   "cell_type": "markdown",
   "id": "ea39d1c6",
   "metadata": {},
   "source": [
    "### 创建gym环境和实例化智能体"
   ]
  },
  {
   "cell_type": "markdown",
   "id": "92e938c2",
   "metadata": {},
   "source": [
    "在这个练习中，我们将使用CartPole环境，一个经典的控制问题\n",
    "\n",
    "“一根杆子通过非驱动关节连接到小车上，小车沿着无摩擦的轨道移动。通过向小车施加 +1 或 -1 的力来控制系统。钟摆开始直立，目标是防止它翻倒。杆子保持直立的每一个时间步都会提供 +1 的奖励。”\n",
    "\n",
    "我们选择 MlpPolicy 是因为 CartPole 任务的观察是特征向量，而不是图像。\n",
    "\n",
    "要使用的动作类型（离散/连续）将从环境动作空间中自动推断出。\n",
    "\n",
    "这里我们使用 Proximal Policy Optimization 算法，它是一种 Actor-Critic 方法：它使用值函数来改进策略梯度下降（通过减少方差）。\n",
    "\n",
    "它结合了 A2C（拥有多个工作人员并使用熵奖励进行探索）和 TRPO（它使用信任区域来提高稳定性并避免性能灾难性下降）的思想。\n",
    "\n",
    "PPO 是一种同策略算法，这意味着用于更新网络的轨迹必须使用最新的策略来收集。它的样本效率通常低于 DQN、SAC 或 TD3 等离策略算法，但就wall-clock time而言要快得多。"
   ]
  },
  {
   "cell_type": "code",
   "execution_count": 4,
   "id": "79813192",
   "metadata": {},
   "outputs": [],
   "source": [
    "env = gym.make(\"CartPole-v1\")\n",
    "\n",
    "model = PPO(MlpPolicy, env, verbose=0)"
   ]
  },
  {
   "cell_type": "code",
   "execution_count": 5,
   "id": "f43c1262",
   "metadata": {},
   "outputs": [],
   "source": [
    "# 我们创建一个辅助函数来评估代理\n",
    "\n",
    "from stable_baselines3.common.base_class import BaseAlgorithm\n",
    "\n",
    "\n",
    "def evaluate(\n",
    "    model: BaseAlgorithm,\n",
    "    num_episodes: int = 100,\n",
    "    deterministic: bool = True,\n",
    ") -> float:\n",
    "    \"\"\"\n",
    "    Evaluate an RL agent for `num_episodes`.\n",
    "\n",
    "    :param model: the RL Agent\n",
    "    :param env: the gym Environment\n",
    "    :param num_episodes: number of episodes to evaluate it\n",
    "    :param deterministic: Whether to use deterministic or stochastic actions\n",
    "    :return: Mean reward for the last `num_episodes`\n",
    "    \"\"\"\n",
    "    # This function will only work for a single environment\n",
    "    vec_env = model.get_env()\n",
    "    obs = vec_env.reset()\n",
    "    all_episode_rewards = []\n",
    "    for _ in range(num_episodes):\n",
    "        episode_rewards = []\n",
    "        done = False\n",
    "        # Note: SB3 VecEnv resets automatically:\n",
    "        # https://stable-baselines3.readthedocs.io/en/master/guide/vec_envs.html#vecenv-api-vs-gym-api\n",
    "        # obs = vec_env.reset()\n",
    "        while not done:\n",
    "            # _states are only useful when using LSTM policies\n",
    "            # `deterministic` is to use deterministic actions\n",
    "            action, _states = model.predict(obs, deterministic=deterministic)\n",
    "            # here, action, rewards and dones are arrays\n",
    "            # because we are using vectorized env\n",
    "            obs, reward, done, _info = vec_env.step(action)\n",
    "            episode_rewards.append(reward)\n",
    "\n",
    "        all_episode_rewards.append(sum(episode_rewards))\n",
    "\n",
    "    mean_episode_reward = np.mean(all_episode_rewards)\n",
    "    print(f\"Mean reward: {mean_episode_reward:.2f} - Num episodes: {num_episodes}\")\n",
    "\n",
    "    return mean_episode_reward"
   ]
  },
  {
   "cell_type": "markdown",
   "id": "f026b8c5",
   "metadata": {},
   "source": [
    "让我们评估未经训练的智能体，这应该是一个随机智能体。"
   ]
  },
  {
   "cell_type": "code",
   "execution_count": 6,
   "id": "f1914039",
   "metadata": {},
   "outputs": [
    {
     "name": "stdout",
     "output_type": "stream",
     "text": [
      "Mean reward: 61.86 - Num episodes: 100\n"
     ]
    }
   ],
   "source": [
    "# Random Agent, before training\n",
    "mean_reward_before_train = evaluate(model, num_episodes=100, deterministic=True)"
   ]
  },
  {
   "cell_type": "markdown",
   "id": "8fa90f19",
   "metadata": {},
   "source": [
    "sb中有Common评估方法"
   ]
  },
  {
   "cell_type": "code",
   "execution_count": 7,
   "id": "b2c118ec",
   "metadata": {},
   "outputs": [],
   "source": [
    "from stable_baselines3.common.evaluation import evaluate_policy"
   ]
  },
  {
   "cell_type": "code",
   "execution_count": 8,
   "id": "0c246c9c",
   "metadata": {},
   "outputs": [
    {
     "name": "stdout",
     "output_type": "stream",
     "text": [
      "mean_reward: 57.45 +/- 18.63\n"
     ]
    }
   ],
   "source": [
    "mean_reward, std_reward = evaluate_policy(model, env, n_eval_episodes=100, warn=False)\n",
    "\n",
    "print(f\"mean_reward: {mean_reward:.2f} +/- {std_reward:.2f}\")"
   ]
  },
  {
   "cell_type": "markdown",
   "id": "e5bc760c",
   "metadata": {},
   "source": [
    "### 训练代理并对其进行评估"
   ]
  },
  {
   "cell_type": "code",
   "execution_count": 9,
   "id": "9e53c9b9",
   "metadata": {},
   "outputs": [
    {
     "data": {
      "text/plain": [
       "<stable_baselines3.ppo.ppo.PPO at 0x16ba4b2b0>"
      ]
     },
     "execution_count": 9,
     "metadata": {},
     "output_type": "execute_result"
    }
   ],
   "source": [
    "# Train the agent for 10000 steps\n",
    "model.learn(total_timesteps=10_000)"
   ]
  },
  {
   "cell_type": "code",
   "execution_count": 10,
   "id": "14495783",
   "metadata": {},
   "outputs": [
    {
     "name": "stderr",
     "output_type": "stream",
     "text": [
      "/Users/zrl_mini/anaconda3/envs/torch2/lib/python3.10/site-packages/stable_baselines3/common/evaluation.py:67: UserWarning: Evaluation environment is not wrapped with a ``Monitor`` wrapper. This may result in reporting modified episode lengths and rewards, if other wrappers happen to modify these. Consider wrapping environment first with ``Monitor`` wrapper.\n",
      "  warnings.warn(\n"
     ]
    },
    {
     "name": "stdout",
     "output_type": "stream",
     "text": [
      "mean_reward:450.69 +/- 82.56\n"
     ]
    }
   ],
   "source": [
    "# Evaluate the trained agent\n",
    "mean_reward, std_reward = evaluate_policy(model, env, n_eval_episodes=100)\n",
    "\n",
    "print(f\"mean_reward:{mean_reward:.2f} +/- {std_reward:.2f}\")"
   ]
  },
  {
   "cell_type": "markdown",
   "id": "cb2c5b3a",
   "metadata": {},
   "source": [
    "### 可视化"
   ]
  },
  {
   "cell_type": "code",
   "execution_count": 11,
   "id": "fa8a650e",
   "metadata": {},
   "outputs": [
    {
     "name": "stderr",
     "output_type": "stream",
     "text": [
      "_XSERVTransmkdir: ERROR: euid != 0,directory /tmp/.X11-unix will not be created.\n",
      "_XSERVTransSocketUNIXCreateListener: mkdir(/tmp/.X11-unix) failed, errno = 2\n",
      "_XSERVTransMakeAllCOTSServerListeners: failed to create listener for local\n",
      "(EE) \n",
      "Fatal server error:\n",
      "(EE) Cannot establish any listening sockets - Make sure an X server isn't already running(EE) \n"
     ]
    }
   ],
   "source": [
    "# Set up fake display; otherwise rendering will fail\n",
    "import os\n",
    "os.system(\"Xvfb :1 -screen 0 1024x768x24 &\")\n",
    "os.environ['DISPLAY'] = ':1'"
   ]
  },
  {
   "cell_type": "code",
   "execution_count": 12,
   "id": "b44a9a74",
   "metadata": {},
   "outputs": [],
   "source": [
    "import base64\n",
    "from pathlib import Path\n",
    "\n",
    "from IPython import display as ipythondisplay\n",
    "\n",
    "\n",
    "def show_videos(video_path=\"\", prefix=\"\"):\n",
    "    \"\"\"\n",
    "    Taken from https://github.com/eleurent/highway-env\n",
    "\n",
    "    :param video_path: (str) Path to the folder containing videos\n",
    "    :param prefix: (str) Filter the video, showing only the only starting with this prefix\n",
    "    \"\"\"\n",
    "    html = []\n",
    "    for mp4 in Path(video_path).glob(\"{}*.mp4\".format(prefix)):\n",
    "        video_b64 = base64.b64encode(mp4.read_bytes())\n",
    "        html.append(\n",
    "            \"\"\"<video alt=\"{}\" autoplay \n",
    "                    loop controls style=\"height: 400px;\">\n",
    "                    <source src=\"data:video/mp4;base64,{}\" type=\"video/mp4\" />\n",
    "                </video>\"\"\".format(\n",
    "                mp4, video_b64.decode(\"ascii\")\n",
    "            )\n",
    "        )\n",
    "    ipythondisplay.display(ipythondisplay.HTML(data=\"<br>\".join(html)))"
   ]
  },
  {
   "cell_type": "code",
   "execution_count": 13,
   "id": "96bb7599",
   "metadata": {},
   "outputs": [],
   "source": [
    "from stable_baselines3.common.vec_env import VecVideoRecorder, DummyVecEnv\n",
    "\n",
    "\n",
    "def record_video(env_id, model, video_length=500, prefix=\"\", video_folder=\"videos/\"):\n",
    "    \"\"\"\n",
    "    :param env_id: (str)\n",
    "    :param model: (RL model)\n",
    "    :param video_length: (int)\n",
    "    :param prefix: (str)\n",
    "    :param video_folder: (str)\n",
    "    \"\"\"\n",
    "    eval_env = DummyVecEnv([lambda: gym.make(env_id, render_mode=\"rgb_array\")])\n",
    "    # Start the video at step=0 and record 500 steps\n",
    "    eval_env = VecVideoRecorder(\n",
    "        eval_env,\n",
    "        video_folder=video_folder,\n",
    "        record_video_trigger=lambda step: step == 0,\n",
    "        video_length=video_length,\n",
    "        name_prefix=prefix,\n",
    "    )\n",
    "\n",
    "    obs = eval_env.reset()\n",
    "    for _ in range(video_length):\n",
    "        action, _ = model.predict(obs)\n",
    "        obs, _, _, _ = eval_env.step(action)\n",
    "\n",
    "    # Close the video recorder\n",
    "    eval_env.close()"
   ]
  },
  {
   "cell_type": "markdown",
   "id": "e98acbc3",
   "metadata": {},
   "source": [
    "#### 可视化训练后的智能体"
   ]
  },
  {
   "cell_type": "code",
   "execution_count": 14,
   "id": "7a840054",
   "metadata": {},
   "outputs": [
    {
     "name": "stdout",
     "output_type": "stream",
     "text": [
      "Saving video to /Users/zrl_mini/DMU/homepage/MIT/01_TechnicalBasis_CN/DeepRL_CN/sb3_tutorial/videos/ppo-cartpole-step-0-to-step-500.mp4\n",
      "Moviepy - Building video /Users/zrl_mini/DMU/homepage/MIT/01_TechnicalBasis_CN/DeepRL_CN/sb3_tutorial/videos/ppo-cartpole-step-0-to-step-500.mp4.\n",
      "Moviepy - Writing video /Users/zrl_mini/DMU/homepage/MIT/01_TechnicalBasis_CN/DeepRL_CN/sb3_tutorial/videos/ppo-cartpole-step-0-to-step-500.mp4\n",
      "\n"
     ]
    },
    {
     "name": "stderr",
     "output_type": "stream",
     "text": [
      "                                                                                                                                          \r"
     ]
    },
    {
     "name": "stdout",
     "output_type": "stream",
     "text": [
      "Moviepy - Done !\n",
      "Moviepy - video ready /Users/zrl_mini/DMU/homepage/MIT/01_TechnicalBasis_CN/DeepRL_CN/sb3_tutorial/videos/ppo-cartpole-step-0-to-step-500.mp4\n"
     ]
    }
   ],
   "source": [
    "# Mac系统需要先安装ffmpeg： brew install ffmpeg\n",
    "\n",
    "record_video(\"CartPole-v1\", model, video_length=500, prefix=\"ppo-cartpole\")"
   ]
  },
  {
   "cell_type": "code",
   "execution_count": 15,
   "id": "8bea81aa",
   "metadata": {},
   "outputs": [
    {
     "data": {
      "text/html": [
       "<video alt=\"videos/ppo-cartpole-step-0-to-step-500.mp4\" autoplay \n",
       "                    loop controls style=\"height: 400px;\">\n",
       "                    <source src=\"data:video/mp4;base64,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\" type=\"video/mp4\" />\n",
       "                </video>"
      ],
      "text/plain": [
       "<IPython.core.display.HTML object>"
      ]
     },
     "metadata": {},
     "output_type": "display_data"
    }
   ],
   "source": [
    "show_videos(\"videos\", prefix=\"ppo\")"
   ]
  },
  {
   "cell_type": "code",
   "execution_count": null,
   "id": "424c4208",
   "metadata": {},
   "outputs": [],
   "source": []
  }
 ],
 "metadata": {
  "kernelspec": {
   "display_name": "Python 3 (ipykernel)",
   "language": "python",
   "name": "python3"
  },
  "language_info": {
   "codemirror_mode": {
    "name": "ipython",
    "version": 3
   },
   "file_extension": ".py",
   "mimetype": "text/x-python",
   "name": "python",
   "nbconvert_exporter": "python",
   "pygments_lexer": "ipython3",
   "version": "3.10.0"
  }
 },
 "nbformat": 4,
 "nbformat_minor": 5
}
