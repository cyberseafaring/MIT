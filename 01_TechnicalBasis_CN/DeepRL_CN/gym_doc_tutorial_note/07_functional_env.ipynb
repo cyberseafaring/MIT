{
 "cells": [
  {
   "cell_type": "markdown",
   "id": "497f64b3",
   "metadata": {},
   "source": [
    "在Gymnasium库中，\"Functional Env\"（功能环境）是一种特定类型的环境，它以更灵活的方式定义了环境的动态。传统上，Gym环境是通过创建一个类来定义的，这个类包含了环境的状态以及如何根据agent的动作更新状态的逻辑。相比之下，Functional Env允许使用函数来定义环境的动态，这提供了一种更为灵活和模块化的方式来创建和使用环境。\n",
    "\n",
    "具体来说，Functional Env允许开发者通过定义一组函数（例如，初始化状态的函数、根据当前状态和动作计算下一个状态的函数、计算奖励的函数等）来完整地描述环境的行为。这种方法使得环境的某些方面（比如状态转换逻辑）可以更容易地被重用和共享，同时也降低了创建复杂环境的难度。\n",
    "\n",
    "Functional Env的主要优点包括：\n",
    "- **模块化**: 通过将环境分解为独立的函数，可以更容易地重用和修改环境的不同部分。\n",
    "- **灵活性**: 开发者可以使用任何适合的编程范式来实现环境逻辑，包括函数式编程或面向对象编程。\n",
    "- **简化测试**: 由于环境的各个部分是独立的函数，可以更容易地对环境的特定方面进行单独测试。\n",
    "\n",
    "Functional Env提供了一种强大且灵活的方法来定义强化学习环境，它特别适合于需要高度自定义环境逻辑的应用场景。"
   ]
  },
  {
   "cell_type": "markdown",
   "id": "d9e7ea2f",
   "metadata": {},
   "source": [
    "`gymnasium.functional.FuncEnv` 类是 Gymnasium 中用于创建功能性（函数式）环境的基类模板。这种类型的环境旨在以无状态的方式使用，其中环境状态明确地在函数调用间传递，而不是隐式地存储在环境对象中。尽管如此，用户仍可以以有状态的方式使用这种环境，但这并不是推荐的做法。\n",
    "\n",
    "### 主要函数（实例方法）：\n",
    "- **`initial`**：返回部分可观测马尔可夫决策过程（POMDP）的初始状态。\n",
    "- **`observation`**：给定一个状态，返回相应的观测值。\n",
    "- **`transition`**：给定一个状态和一个动作，返回执行该动作后的下一个状态。\n",
    "- **`reward`**：给定一个（状态，动作，下一个状态）元组，返回相应的奖励。\n",
    "- **`terminal`**：给定一个状态，返回该状态是否是终止状态。\n",
    "- **`state_info`**（可选）：返回有关给定状态的信息字典。\n",
    "- **`step_info`**（可选）：返回有关给定（状态，动作，下一个状态）元组的信息字典。\n",
    "\n",
    "### 类结构的目的：\n",
    "类的结构允许在类中定义环境常量，然后在代码中通过名称使用这些常量。这有助于创建更清晰、更易于维护的环境实现。\n",
    "\n",
    "### 使用场景：\n",
    "这个 API 主要用于内部使用，并且可能会发生变化。未来，开发团队计划进一步完善这个 API 并正式向最终用户开放。它对于创建可在不同状态之间明确传递状态的环境特别有用，可以用于更复杂的情况，如并行环境处理或需要显式状态管理的情境。\n",
    "\n",
    "### 示例代码：\n",
    "目前，由于 `FuncEnv` 主要用于内部使用且API可能会变化，官方没有提供明确的示例代码。未来，当 API 稳定并向公众开放时，可以期待更详细的示例和使用说明。\n",
    "\n",
    "### 初始化环境常量：\n",
    "当创建基于 `FuncEnv` 的环境时，你可以在类的初始化方法中设置任何必要的环境常量，这些常量将在环境的生命周期中使用。"
   ]
  },
  {
   "cell_type": "markdown",
   "id": "da88e43f",
   "metadata": {},
   "source": []
  },
  {
   "cell_type": "markdown",
   "id": "7fb1bfde",
   "metadata": {},
   "source": []
  },
  {
   "cell_type": "markdown",
   "id": "4fe66f7d",
   "metadata": {},
   "source": []
  },
  {
   "cell_type": "markdown",
   "id": "7ce78e7b",
   "metadata": {},
   "source": []
  },
  {
   "cell_type": "markdown",
   "id": "dfb9c65c",
   "metadata": {},
   "source": []
  },
  {
   "cell_type": "markdown",
   "id": "e982dbcc",
   "metadata": {},
   "source": []
  },
  {
   "cell_type": "markdown",
   "id": "b69e1f2f",
   "metadata": {},
   "source": []
  },
  {
   "cell_type": "markdown",
   "id": "49cb260e",
   "metadata": {},
   "source": []
  },
  {
   "cell_type": "markdown",
   "id": "b71de1f8",
   "metadata": {},
   "source": []
  },
  {
   "cell_type": "markdown",
   "id": "ac0413f4",
   "metadata": {},
   "source": []
  },
  {
   "cell_type": "markdown",
   "id": "78f7a63f",
   "metadata": {},
   "source": []
  },
  {
   "cell_type": "markdown",
   "id": "41eb0150",
   "metadata": {},
   "source": []
  }
 ],
 "metadata": {
  "kernelspec": {
   "display_name": "Python 3 (ipykernel)",
   "language": "python",
   "name": "python3"
  },
  "language_info": {
   "codemirror_mode": {
    "name": "ipython",
    "version": 3
   },
   "file_extension": ".py",
   "mimetype": "text/x-python",
   "name": "python",
   "nbconvert_exporter": "python",
   "pygments_lexer": "ipython3",
   "version": "3.10.0"
  }
 },
 "nbformat": 4,
 "nbformat_minor": 5
}
