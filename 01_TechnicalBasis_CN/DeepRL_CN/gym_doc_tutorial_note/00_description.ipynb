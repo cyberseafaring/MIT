{
 "cells": [
  {
   "cell_type": "markdown",
   "id": "7e04bd6c",
   "metadata": {},
   "source": [
    "# 什么是Gymnasium"
   ]
  },
  {
   "cell_type": "markdown",
   "id": "d0a53064",
   "metadata": {},
   "source": [
    "Gymnasium库是一个开源的深度强化学习（DRL）工具库，旨在提供一个易于使用和标准化的接口来开发和测试强化学习算法。这个库是建立在OpenAI Gym的基础上，致力于提高兼容性、扩展性和维护性，为研究者和开发者提供了一个丰富的环境集合来测试他们的算法。以下是Gymnasium库的详细介绍：\n",
    "\n",
    "### 核心特性\n",
    "\n",
    "- **标准化环境接口**：Gymnasium为强化学习算法提供了一个标准化的环境接口，包括状态观察、动作执行、奖励计算等，使得研究和开发工作可以更加集中于算法本身，而不是环境的细节。\n",
    "- **丰富的环境库**：库中包含从经典的CartPole和MountainCar到复杂的模拟环境如Atari游戏和MuJoCo物理模拟的各种环境，支持从入门级到高级研究的需求。\n",
    "- **兼容性与扩展性**：Gymnasium设计了兼容性层和API，以便于导入和兼容老版本的Gym环境，同时也易于扩展新的环境。\n",
    "- **环境注册与加载机制**：通过环境注册机制，用户可以轻松地添加新的环境到Gymnasium库中，并通过统一的`make()`函数调用这些环境，这使得环境的共享和复用变得简单。\n",
    "\n",
    "### 主要组件\n",
    "\n",
    "- **环境（Environments）**：环境是与智能体互动的模拟世界，它定义了状态空间、动作空间和奖励机制。Gymnasium提供了多种环境，涵盖不同的领域和难度。\n",
    "- **空间（Spaces）**：空间用于定义一个环境中的观察和动作的格式和范围。常见的空间类型包括离散空间（Discrete）和连续空间（Box）。\n",
    "- **包装器（Wrappers）**：包装器是一种结构，可以包装环境以修改其行为。例如，可以通过包装器来调整观察的格式，或者改变奖励的结构，以适应特定的算法需求。\n",
    "- **观察与动作**：在每个时间步，环境提供给智能体的当前状态观察，智能体则根据观察做出动作。环境随后返回新的观察、奖励和完成状态。\n",
    "\n",
    "\n",
    "### 结论\n",
    "\n",
    "Gymnasium库为深度强化学习社区提供了一个强大、灵活和用户友好的平台，不仅支持研究人员开发和测试新的算法，也使得教\n",
    "\n",
    "学和学习强化学习变得更加容易。通过其丰富的环境集合和易用的API，Gymnasium成为了深度强化学习领域中不可或缺的工具之一。"
   ]
  },
  {
   "cell_type": "markdown",
   "id": "30d9fd6a",
   "metadata": {},
   "source": [
    "### 使用示例\n",
    "\n",
    "基本的使用流程包括创建环境、重置环境获取初始观察、在循环中执行动作并观察结果，直到环境达到终止状态。以下是一个简单的示例：\n",
    "\n"
   ]
  },
  {
   "cell_type": "code",
   "execution_count": 2,
   "id": "ebcbe702",
   "metadata": {},
   "outputs": [
    {
     "name": "stderr",
     "output_type": "stream",
     "text": [
      "/Users/zrl_mini/anaconda3/envs/torch2/lib/python3.10/site-packages/gymnasium/envs/classic_control/cartpole.py:215: UserWarning: \u001b[33mWARN: You are calling render method without specifying any render mode. You can specify the render_mode at initialization, e.g. gym.make(\"CartPole-v1\", render_mode=\"rgb_array\")\u001b[0m\n",
      "  gym.logger.warn(\n"
     ]
    }
   ],
   "source": [
    "import gymnasium as gym\n",
    "\n",
    "# 创建环境\n",
    "env = gym.make('CartPole-v1')\n",
    "\n",
    "# 重置环境\n",
    "observation = env.reset()\n",
    "\n",
    "for _ in range(1000):\n",
    "    # 渲染环境\n",
    "    env.render()\n",
    "    \n",
    "    # 采取动作\n",
    "    action = env.action_space.sample()  # 随机选择一个动作\n",
    "    # 老\n",
    "    #observation, reward, done, info = env.step(action)\n",
    "    # 新\n",
    "    observation, reward, terminated, truncated, info = env.step(action)\n",
    "    \n",
    "    # 检查是否结束\n",
    "    if terminated or truncated:\n",
    "        observation = env.reset()\n",
    "\n",
    "env.close()"
   ]
  },
  {
   "cell_type": "markdown",
   "id": "25dbd6ea",
   "metadata": {},
   "source": [
    "# gymnasium和gym的兼容性问题"
   ]
  },
  {
   "cell_type": "markdown",
   "id": "013fc785",
   "metadata": {},
   "source": [
    "Gymnasium提供了与老版本Gym的兼容性方法，以支持各种环境实现。以下是Gymnasium与老版本Gym的主要区别和特点：\n",
    "\n",
    "1. **加载OpenAI Gym环境**：对于只在OpenAI Gym中注册而不在Gymnasium中注册的环境，Gymnasium v0.26.3及以上版本允许通过特殊环境或包装器导入它们。Gymnasium引入了\"GymV26Environment-v0\"环境，在v0.26.3版本中，它允许通过`env_name`参数及其他相关的环境关键字参数导入Gym环境。若要通过包装器进行转换，可以将环境本身传递给包装器`EnvCompatibility`通过`env`关键字参数。\n",
    "\n",
    "   例如，atari 0.8.0就没有gymnasium实现：\n",
    "   ```python\n",
    "   import gymnasium as gym\n",
    "   env = gym.make(\"GymV26Environment-v0\", env_id=\"ALE/Pong-v5\")\n",
    "   ```\n",
    "\n",
    "2. **Gym v0.21环境兼容性**：许多环境尚未更新到最近的Gym更改，特别是自v0.21版本以来的更改。此更新对于引入终止和截断签名代替之前使用的`done`而言是重大的。为了允许向后兼容，Gym和Gymnasium v0.26+在调用`make()`时包括一个`apply_api_compatibility`关键字参数，该参数会自动将符合v0.21 API的环境转换为与v0.26+兼容的环境。\n",
    "\n",
    "   例如：\n",
    "   ```python\n",
    "   import gym\n",
    "   env = gym.make(\"OldV21Env-v0\", apply_api_compatibility=True)\n",
    "   ```\n",
    "   在Gymnasium中，我们还提供了专门的兼容性环境，对于`env_id`会调用`gym.make`。\n",
    "\n",
    "   ```python\n",
    "   import gymnasium\n",
    "   env = gymnasium.make(\"GymV21Environment-v0\", env_id=\"CartPole-v1\", render_mode=\"human\")\n",
    "   # 或者\n",
    "   env = gymnasium.make(\"GymV21Environment-v0\", env=OldV21Env())\n",
    "   ```\n",
    "\n",
    "3. **步骤API兼容性**：如果环境实现了旧的`done`步骤API，Gymnasium提供了函数(`gymnasium.utils.step_api_compatibility.convert_to_terminated_truncated_step_api()`)和包装器(`gymnasium.wrappers.StepAPICompatibility`)，将使用`done`的旧步骤API的环境转换为使用终止和截断的新步骤API。\n",
    "\n"
   ]
  },
  {
   "cell_type": "code",
   "execution_count": null,
   "id": "f44e26d1",
   "metadata": {},
   "outputs": [],
   "source": []
  }
 ],
 "metadata": {
  "kernelspec": {
   "display_name": "Python 3 (ipykernel)",
   "language": "python",
   "name": "python3"
  },
  "language_info": {
   "codemirror_mode": {
    "name": "ipython",
    "version": 3
   },
   "file_extension": ".py",
   "mimetype": "text/x-python",
   "name": "python",
   "nbconvert_exporter": "python",
   "pygments_lexer": "ipython3",
   "version": "3.10.0"
  }
 },
 "nbformat": 4,
 "nbformat_minor": 5
}
