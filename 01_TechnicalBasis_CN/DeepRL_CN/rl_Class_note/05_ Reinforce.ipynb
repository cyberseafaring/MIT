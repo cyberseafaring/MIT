{
 "cells": [
  {
   "cell_type": "markdown",
   "id": "581df445",
   "metadata": {},
   "source": [
    "Reinforce 是一种基于策略的方法：一种深度强化学习算法，尝试直接优化策略而不使用动作值函数，基于Monte Carlo Policy Gradient。更准确地说，Reinforce旨在通过使用梯度上升估计最优策略的权重来直接优化策略。"
   ]
  },
  {
   "cell_type": "markdown",
   "id": "9aca22b3",
   "metadata": {},
   "source": [
    "本笔记本的目标：\n",
    "\n",
    "能够使用 PyTorch 从头开始编写 Reinforce 算法。\n",
    "\n",
    "能够使用简单的环境测试代理的稳健性。\n",
    "\n",
    "能够通过精彩的视频回放和评估分数将您训练有素的代理推送给别人。"
   ]
  },
  {
   "cell_type": "markdown",
   "id": "71391e2b",
   "metadata": {},
   "source": [
    "### 导入模块"
   ]
  },
  {
   "cell_type": "code",
   "execution_count": 1,
   "id": "398f09e1",
   "metadata": {},
   "outputs": [],
   "source": [
    "import numpy as np\n",
    "\n",
    "from collections import deque\n",
    "\n",
    "import matplotlib.pyplot as plt\n",
    "%matplotlib inline\n",
    "\n",
    "# PyTorch\n",
    "import torch\n",
    "import torch.nn as nn\n",
    "import torch.nn.functional as F\n",
    "import torch.optim as optim\n",
    "from torch.distributions import Categorical\n",
    "\n",
    "# Gym\n",
    "import gym\n",
    "#import gym_pygame"
   ]
  },
  {
   "cell_type": "code",
   "execution_count": 6,
   "id": "0d3ff40c",
   "metadata": {},
   "outputs": [
    {
     "name": "stdout",
     "output_type": "stream",
     "text": [
      "cpu\n"
     ]
    }
   ],
   "source": [
    "# 检查我们是否有 GPU\n",
    "\n",
    "device = torch.device(\"cuda:0\" if torch.cuda.is_available() else \"cpu\")\n",
    "print(device)"
   ]
  },
  {
   "cell_type": "markdown",
   "id": "b33f74f8",
   "metadata": {},
   "source": [
    "### 创建 CartPole 环境并了解其工作原理"
   ]
  },
  {
   "cell_type": "markdown",
   "id": "91f9a76b",
   "metadata": {},
   "source": [
    "如果满足以下条件，则该episode结束：\n",
    "\n",
    "极角大于±12°\n",
    "\n",
    "购物车位置大于±2.4\n",
    "\n",
    "剧集长度大于 500"
   ]
  },
  {
   "cell_type": "code",
   "execution_count": 2,
   "id": "e1198a2b",
   "metadata": {},
   "outputs": [
    {
     "name": "stdout",
     "output_type": "stream",
     "text": [
      "4\n",
      "2\n"
     ]
    }
   ],
   "source": [
    "env_id = \"CartPole-v1\"\n",
    "# Create the env\n",
    "env = gym.make(env_id)\n",
    "\n",
    "# Create the evaluation env\n",
    "eval_env = gym.make(env_id)\n",
    "\n",
    "# Get the state space and action space\n",
    "s_size = env.observation_space.shape[0]\n",
    "print(s_size)\n",
    "a_size = env.action_space.n\n",
    "print(a_size)"
   ]
  },
  {
   "cell_type": "code",
   "execution_count": 3,
   "id": "25e0a85a",
   "metadata": {},
   "outputs": [
    {
     "name": "stdout",
     "output_type": "stream",
     "text": [
      "_____OBSERVATION SPACE_____ \n",
      "\n",
      "The State Space is:  4\n",
      "Sample observation [-1.8286734e+00 -2.7030667e+38 -3.4430575e-01 -8.4396607e+37]\n",
      "\n",
      " _____ACTION SPACE_____ \n",
      "\n",
      "The Action Space is:  2\n",
      "Action Space Sample 1\n"
     ]
    }
   ],
   "source": [
    "print(\"_____OBSERVATION SPACE_____ \\n\")\n",
    "print(\"The State Space is: \", s_size)\n",
    "print(\"Sample observation\", env.observation_space.sample()) # Get a random observation\n",
    "\n",
    "print(\"\\n _____ACTION SPACE_____ \\n\")\n",
    "print(\"The Action Space is: \", a_size)\n",
    "print(\"Action Space Sample\", env.action_space.sample()) # Take a random action"
   ]
  },
  {
   "cell_type": "markdown",
   "id": "dbca21a5",
   "metadata": {},
   "source": [
    "### 构建Reinforce架构"
   ]
  },
  {
   "cell_type": "markdown",
   "id": "e7dbe611",
   "metadata": {},
   "source": [
    "REINFORCE算法是一种基于策略的深度强化学习算法，它直接对策略进行优化以最大化预期回报。这种算法属于蒙特卡罗方法，因为它依赖于完整的序列样本来更新策略。下面是REINFORCE算法的主要组成部分和工作流程：\n",
    "\n",
    "1. **策略表示**：REINFORCE算法通过参数化的策略来操作，通常表示为πθ(a|s)，其中s表示状态，a表示动作，θ表示策略参数。这个策略可以用任何具有可微分参数的模型来表示，如神经网络。\n",
    "\n",
    "2. **目标函数**：它的目标是最大化预期回报的期望值，即策略的好坏由其获得的回报来衡量。回报是从某状态开始，按照策略πθ采取行动直到终止状态所获得的累积奖励。\n",
    "\n",
    "3. **梯度上升**：为了最大化目标函数，REINFORCE算法使用梯度上升方法来更新策略参数θ。策略梯度定理提供了一种计算目标函数梯度的方法，即通过采样得到的回报来估计。\n",
    "\n",
    "4. **策略梯度定理**：根据策略梯度定理，策略的梯度可以表示为期望回报的梯度与对数策略的乘积。这意味着可以通过增加高回报动作的概率并减少低回报动作的概率来优化策略。\n",
    "\n",
    "5. **算法步骤**：\n",
    "   - 初始化策略参数θ。\n",
    "   - 通过当前策略πθ在环境中执行多个完整的序列（或称为episode），收集状态、动作和奖励的序列。\n",
    "   - 对于每一个episode，计算每一步的累积回报（从该步骤到序列结束的奖励总和）。\n",
    "   - 对每一步，计算策略梯度，并根据这些梯度进行参数θ的更新。更新是通过加上步长（学习率）乘以策略梯度来实现的，以期最大化累积回报。\n",
    "   - 重复上述过程，直到策略收敛（即参数θ的变化非常小或达到预设的迭代次数）。\n",
    "\n",
    "REINFORCE算法的一个关键特性是它直接从经验中学习，无需建模环境的动态（即转移概率和奖励函数）。然而，这种方法可能会导致高方差，因此在实践中通常需要使用基线或方差缩减技术来改进学习效率和稳定性。"
   ]
  },
  {
   "cell_type": "code",
   "execution_count": null,
   "id": "db9a0e40",
   "metadata": {},
   "outputs": [],
   "source": [
    "# 常见错误\n",
    "\n",
    "class Policy(nn.Module):\n",
    "    def __init__(self, s_size, a_size, h_size):\n",
    "        super(Policy, self).__init__()\n",
    "        self.fc1 = nn.Linear(s_size, h_size)\n",
    "        self.fc2 = nn.Linear(h_size, a_size)\n",
    "\n",
    "    def forward(self, x):\n",
    "        x = F.relu(self.fc1(x))\n",
    "        x = self.fc2(x)\n",
    "        return F.softmax(x, dim=1)\n",
    "    \n",
    "    def act(self, state):\n",
    "        state = torch.from_numpy(state).float().unsqueeze(0).to(device)\n",
    "        probs = self.forward(state).cpu()\n",
    "        m = Categorical(probs)\n",
    "        action = np.argmax(m)\n",
    "        return action.item(), m.log_prob(action)"
   ]
  },
  {
   "cell_type": "markdown",
   "id": "d3f1bf04",
   "metadata": {},
   "source": [
    "这里有一个错误，可以通过调用查找\n",
    "\n",
    "debug_policy = Policy(s_size, a_size, 64).to(device)\n",
    "\n",
    "debug_policy.act(env.reset())"
   ]
  },
  {
   "cell_type": "code",
   "execution_count": null,
   "id": "a49debb1",
   "metadata": {},
   "outputs": [],
   "source": [
    "debug_policy = Policy(s_size, a_size, 64).to(device)\n",
    "debug_policy.act(env.reset())"
   ]
  },
  {
   "cell_type": "code",
   "execution_count": 9,
   "id": "1bb3af3e",
   "metadata": {},
   "outputs": [],
   "source": [
    "# 正确的策略类表示方法\n",
    "\n",
    "class Policy(nn.Module):\n",
    "    def __init__(self, s_size, a_size, h_size):\n",
    "        super(Policy, self).__init__()\n",
    "        self.fc1 = nn.Linear(s_size, h_size)\n",
    "        self.fc2 = nn.Linear(h_size, a_size)\n",
    "\n",
    "    def forward(self, x):\n",
    "        x = F.relu(self.fc1(x))\n",
    "        x = self.fc2(x)\n",
    "        return F.softmax(x, dim=1)\n",
    "    \n",
    "    def act(self, state):\n",
    "        # 如果env.reset()返回的是元组，则只取第一个元素（假设它是观察数组）\n",
    "        if isinstance(state, tuple):\n",
    "            state = state[0]\n",
    "        state = torch.from_numpy(state).float().unsqueeze(0).to(device)\n",
    "        probs = self.forward(state).cpu()\n",
    "        m = Categorical(probs)\n",
    "        action = m.sample()\n",
    "        return action.item(), m.log_prob(action)"
   ]
  },
  {
   "cell_type": "code",
   "execution_count": 10,
   "id": "e17350fb",
   "metadata": {},
   "outputs": [
    {
     "data": {
      "text/plain": [
       "(1, tensor([-0.6924], grad_fn=<SqueezeBackward1>))"
      ]
     },
     "execution_count": 10,
     "metadata": {},
     "output_type": "execute_result"
    }
   ],
   "source": [
    "debug_policy = Policy(s_size, a_size, 64).to(device)\n",
    "debug_policy.act(env.reset())"
   ]
  },
  {
   "cell_type": "markdown",
   "id": "3920b38e",
   "metadata": {},
   "source": [
    "### 训练算法"
   ]
  },
  {
   "cell_type": "code",
   "execution_count": 15,
   "id": "5cbdae7f",
   "metadata": {},
   "outputs": [],
   "source": [
    "def reinforce(policy, optimizer, n_training_episodes, max_t, gamma, print_every):\n",
    "    # Help us to calculate the score during the training\n",
    "    scores_deque = deque(maxlen=100)\n",
    "    scores = []\n",
    "    # Line 3 of pseudocode\n",
    "    for i_episode in range(1, n_training_episodes+1):\n",
    "        saved_log_probs = []\n",
    "        rewards = []\n",
    "        state = env.reset()\n",
    "        # Line 4 of pseudocode\n",
    "        for t in range(max_t):\n",
    "            action, log_prob = policy.act(state)\n",
    "            saved_log_probs.append(log_prob)\n",
    "            state, reward, terminated, truncated, info = env.step(action)\n",
    "            rewards.append(reward)\n",
    "            if terminated:\n",
    "                break \n",
    "        scores_deque.append(sum(rewards))\n",
    "        scores.append(sum(rewards))\n",
    "        \n",
    "        # Line 6 of pseudocode: calculate the return\n",
    "        returns = deque(maxlen=max_t) \n",
    "        n_steps = len(rewards) \n",
    "        # Compute the discounted returns at each timestep,\n",
    "        # as \n",
    "        #      the sum of the gamma-discounted return at time t (G_t) + the reward at time t\n",
    "        #\n",
    "        # In O(N) time, where N is the number of time steps\n",
    "        # (this definition of the discounted return G_t follows the definition of this quantity \n",
    "        # shown at page 44 of Sutton&Barto 2017 2nd draft)\n",
    "        # G_t = r_(t+1) + r_(t+2) + ...\n",
    "        \n",
    "        # Given this formulation, the returns at each timestep t can be computed \n",
    "        # by re-using the computed future returns G_(t+1) to compute the current return G_t\n",
    "        # G_t = r_(t+1) + gamma*G_(t+1)\n",
    "        # G_(t-1) = r_t + gamma* G_t\n",
    "        # (this follows a dynamic programming approach, with which we memorize solutions in order \n",
    "        # to avoid computing them multiple times)\n",
    "        \n",
    "        # This is correct since the above is equivalent to (see also page 46 of Sutton&Barto 2017 2nd draft)\n",
    "        # G_(t-1) = r_t + gamma*r_(t+1) + gamma*gamma*r_(t+2) + ...\n",
    "        \n",
    "        \n",
    "        ## Given the above, we calculate the returns at timestep t as: \n",
    "        #               gamma[t] * return[t] + reward[t]\n",
    "        #\n",
    "        ## We compute this starting from the last timestep to the first, in order\n",
    "        ## to employ the formula presented above and avoid redundant computations that would be needed \n",
    "        ## if we were to do it from first to last.\n",
    "        \n",
    "        ## Hence, the queue \"returns\" will hold the returns in chronological order, from t=0 to t=n_steps\n",
    "        ## thanks to the appendleft() function which allows to append to the position 0 in constant time O(1)\n",
    "        ## a normal python list would instead require O(N) to do this.\n",
    "        for t in range(n_steps)[::-1]:\n",
    "            disc_return_t = (returns[0] if len(returns)>0 else 0)\n",
    "            returns.appendleft( gamma*disc_return_t + rewards[t]   )    \n",
    "            \n",
    "        ## standardization of the returns is employed to make training more stable\n",
    "        eps = np.finfo(np.float32).eps.item()\n",
    "        ## eps is the smallest representable float, which is \n",
    "        # added to the standard deviation of the returns to avoid numerical instabilities        \n",
    "        returns = torch.tensor(returns)\n",
    "        returns = (returns - returns.mean()) / (returns.std() + eps)\n",
    "        \n",
    "        # Line 7:\n",
    "        policy_loss = []\n",
    "        for log_prob, disc_return in zip(saved_log_probs, returns):\n",
    "            policy_loss.append(-log_prob * disc_return)\n",
    "        policy_loss = torch.cat(policy_loss).sum()\n",
    "        \n",
    "        # Line 8: PyTorch prefers gradient descent \n",
    "        optimizer.zero_grad()\n",
    "        policy_loss.backward()\n",
    "        optimizer.step()\n",
    "        \n",
    "        if i_episode % print_every == 0:\n",
    "            print('Episode {}\\tAverage Score: {:.2f}'.format(i_episode, np.mean(scores_deque)))\n",
    "        \n",
    "    return scores"
   ]
  },
  {
   "cell_type": "code",
   "execution_count": 16,
   "id": "23877a17",
   "metadata": {},
   "outputs": [],
   "source": [
    "cartpole_hyperparameters = {\n",
    "    \"h_size\": 16,\n",
    "    \"n_training_episodes\": 1000,\n",
    "    \"n_evaluation_episodes\": 10,\n",
    "    \"max_t\": 1000,\n",
    "    \"gamma\": 1.0,\n",
    "    \"lr\": 1e-2,\n",
    "    \"env_id\": env_id,\n",
    "    \"state_space\": s_size,\n",
    "    \"action_space\": a_size,\n",
    "}"
   ]
  },
  {
   "cell_type": "code",
   "execution_count": 17,
   "id": "2ed9bdb1",
   "metadata": {},
   "outputs": [],
   "source": [
    "# Create policy and place it to the device\n",
    "cartpole_policy = Policy(cartpole_hyperparameters[\"state_space\"], cartpole_hyperparameters[\"action_space\"], cartpole_hyperparameters[\"h_size\"]).to(device)\n",
    "cartpole_optimizer = optim.Adam(cartpole_policy.parameters(), lr=cartpole_hyperparameters[\"lr\"])"
   ]
  },
  {
   "cell_type": "code",
   "execution_count": 18,
   "id": "ff5bfc41",
   "metadata": {},
   "outputs": [
    {
     "name": "stdout",
     "output_type": "stream",
     "text": [
      "Episode 100\tAverage Score: 42.95\n",
      "Episode 200\tAverage Score: 411.89\n",
      "Episode 300\tAverage Score: 638.59\n",
      "Episode 400\tAverage Score: 967.33\n",
      "Episode 500\tAverage Score: 995.89\n",
      "Episode 600\tAverage Score: 793.57\n",
      "Episode 700\tAverage Score: 482.94\n",
      "Episode 800\tAverage Score: 649.18\n",
      "Episode 900\tAverage Score: 1000.00\n",
      "Episode 1000\tAverage Score: 1000.00\n"
     ]
    }
   ],
   "source": [
    "scores = reinforce(cartpole_policy,\n",
    "                   cartpole_optimizer,\n",
    "                   cartpole_hyperparameters[\"n_training_episodes\"], \n",
    "                   cartpole_hyperparameters[\"max_t\"],\n",
    "                   cartpole_hyperparameters[\"gamma\"], \n",
    "                   100)"
   ]
  },
  {
   "cell_type": "markdown",
   "id": "14fa0d5a",
   "metadata": {},
   "source": [
    "### 定义评估方法"
   ]
  },
  {
   "cell_type": "code",
   "execution_count": 23,
   "id": "0ee5f04e",
   "metadata": {},
   "outputs": [],
   "source": [
    "def evaluate_agent(env, max_steps, n_eval_episodes, policy):\n",
    "  \"\"\"\n",
    "  Evaluate the agent for ``n_eval_episodes`` episodes and returns average reward and std of reward.\n",
    "  :param env: The evaluation environment\n",
    "  :param n_eval_episodes: Number of episode to evaluate the agent\n",
    "  :param policy: The Reinforce agent\n",
    "  \"\"\"\n",
    "  episode_rewards = []\n",
    "  for episode in range(n_eval_episodes):\n",
    "    state = env.reset()\n",
    "    step = 0\n",
    "    done = False\n",
    "    total_rewards_ep = 0\n",
    "    \n",
    "    for step in range(max_steps):\n",
    "      action, _ = policy.act(state)\n",
    "      new_state, reward, terminated, truncated, info = env.step(action)\n",
    "      total_rewards_ep += reward\n",
    "        \n",
    "      if terminated:\n",
    "        break\n",
    "      state = new_state\n",
    "    episode_rewards.append(total_rewards_ep)\n",
    "  mean_reward = np.mean(episode_rewards)\n",
    "  std_reward = np.std(episode_rewards)\n",
    "\n",
    "  return mean_reward, std_reward"
   ]
  },
  {
   "cell_type": "code",
   "execution_count": 24,
   "id": "bef77409",
   "metadata": {},
   "outputs": [
    {
     "data": {
      "text/plain": [
       "(1000.0, 0.0)"
      ]
     },
     "execution_count": 24,
     "metadata": {},
     "output_type": "execute_result"
    }
   ],
   "source": [
    "evaluate_agent(eval_env, \n",
    "               cartpole_hyperparameters[\"max_t\"], \n",
    "               cartpole_hyperparameters[\"n_evaluation_episodes\"],\n",
    "               cartpole_policy)"
   ]
  }
 ],
 "metadata": {
  "kernelspec": {
   "display_name": "Python 3 (ipykernel)",
   "language": "python",
   "name": "python3"
  },
  "language_info": {
   "codemirror_mode": {
    "name": "ipython",
    "version": 3
   },
   "file_extension": ".py",
   "mimetype": "text/x-python",
   "name": "python",
   "nbconvert_exporter": "python",
   "pygments_lexer": "ipython3",
   "version": "3.10.0"
  }
 },
 "nbformat": 4,
 "nbformat_minor": 5
}
